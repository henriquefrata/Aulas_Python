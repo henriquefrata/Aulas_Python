{
 "cells": [
  {
   "cell_type": "code",
   "execution_count": 13,
   "metadata": {},
   "outputs": [],
   "source": [
    "import sqlite3\n",
    "\n",
    "conn = sqlite3.connect('aula6ex1.db')\n",
    "\n",
    "cursor = conn.cursor()\n",
    "\n",
    "cursor.execute(\"\"\"\n",
    "CREATE TABLE IF NOT EXISTS Author(\n",
    "    AuthorID INTEGER NOT NULL PRIMARY KEY AUTOINCREMENT,\n",
    "    name TEXT NOT NULL\n",
    ")\n",
    "\"\"\")\n",
    "\n",
    "cursor.execute(\"\"\"\n",
    "CREATE TABLE IF NOT EXISTS Post(\n",
    "    PostID INTEGER NOT NULL PRIMARY KEY AUTOINCREMENT,\n",
    "    AuthorID INTEGER NOT NULL,\n",
    "    Title TEXT NOT NULL,\n",
    "    Created DATETIME NOT NULL,\n",
    "    FOREIGN KEY (AuthorID) REFERENCES Author(AuthorID)\n",
    ")\n",
    "\"\"\")\n",
    "\n",
    "conn.commit()\n",
    "\n"
   ]
  },
  {
   "cell_type": "code",
   "execution_count": 15,
   "metadata": {},
   "outputs": [],
   "source": [
    "#Insere no author\n",
    "\n",
    "import sqlite3\n",
    "\n",
    "conn = sqlite3.connect('aula6ex1.db')\n",
    "\n",
    "cursor = conn.cursor()\n",
    "nome = input('Digite o nome do autor: ')\n",
    "\n",
    "cursor.execute('INSERT INTO Author(name) VALUES (?)',[(nome)])\n",
    "\n",
    "conn.commit()\n",
    "conn.close()"
   ]
  },
  {
   "cell_type": "code",
   "execution_count": 16,
   "metadata": {},
   "outputs": [],
   "source": [
    "#Insere no post\n",
    "\n",
    "from datetime import datetime\n",
    "import sqlite3\n",
    "import datetime\n",
    "\n",
    "conn = sqlite3.connect('aula6ex1.db')\n",
    "\n",
    "cursor = conn.cursor()\n",
    "\n",
    "idautor = input('Digite o id do autor desejado: ')\n",
    "titulo = input('Digite o nome do título: ')\n",
    "\n",
    "year = int(input('Digite o ano de publicação: '))\n",
    "month = int(input('Digite o mês de publicação: '))\n",
    "day = int(input('Digite o dia da publicação: '))\n",
    "criado = datetime.date(year, month, day)\n",
    "\n",
    "\n",
    "cursor.execute('INSERT INTO Post(AuthorID, Title, Created) VALUES (?,?,?)', (idautor, titulo, criado))\n",
    "\n",
    "conn.commit()\n",
    "conn.close()"
   ]
  },
  {
   "cell_type": "code",
   "execution_count": 2,
   "metadata": {},
   "outputs": [
    {
     "name": "stdout",
     "output_type": "stream",
     "text": [
      "(1, 'Henrique Frata')\n"
     ]
    }
   ],
   "source": [
    "#Visualiza Author\n",
    "\n",
    "import sqlite3\n",
    "\n",
    "conn = sqlite3.connect('aula6ex1.db')\n",
    "\n",
    "cursor = conn.cursor()\n",
    "\n",
    "cursor.execute('SELECT * FROM Author')\n",
    "\n",
    "for linha in cursor.fetchall():\n",
    "    print(linha)\n",
    "\n",
    "conn.commit()\n",
    "conn.close()"
   ]
  },
  {
   "cell_type": "code",
   "execution_count": 3,
   "metadata": {},
   "outputs": [
    {
     "name": "stdout",
     "output_type": "stream",
     "text": [
      "(1, 1, 'A Verdadeira', '2019-02-11')\n"
     ]
    }
   ],
   "source": [
    "#Visualiza o Post\n",
    "\n",
    "import sqlite3\n",
    "\n",
    "conn = sqlite3.connect('aula6ex1.db')\n",
    "\n",
    "cursor = conn.cursor()\n",
    "\n",
    "cursor.execute('SELECT * FROM Post')\n",
    "\n",
    "for linha in cursor.fetchall():\n",
    "    print(linha)\n",
    "\n",
    "conn.commit()\n",
    "conn.close()"
   ]
  },
  {
   "cell_type": "code",
   "execution_count": 19,
   "metadata": {},
   "outputs": [
    {
     "name": "stdout",
     "output_type": "stream",
     "text": [
      "Update ok\n"
     ]
    }
   ],
   "source": [
    "#Atualiza o Author\n",
    "\n",
    "import sqlite3\n",
    "\n",
    "conn = sqlite3.connect('aula6ex1.db')\n",
    "\n",
    "cursor = conn.cursor()\n",
    "novonome = input('Digite o novo nome do autor: ')\n",
    "id_mudar = input('Digite o id do autor a ser mudado: ')\n",
    "\n",
    "cursor.execute('UPDATE Author SET name = ? where AuthorID = ?', (novonome, id_mudar))\n",
    "\n",
    "print('Update ok')\n",
    "\n",
    "conn.commit()\n",
    "conn.close()\n"
   ]
  },
  {
   "cell_type": "code",
   "execution_count": 21,
   "metadata": {},
   "outputs": [
    {
     "name": "stdout",
     "output_type": "stream",
     "text": [
      "Update ok\n"
     ]
    }
   ],
   "source": [
    "#Atualiza o Post\n",
    "\n",
    "import sqlite3\n",
    "\n",
    "conn = sqlite3.connect('aula6ex1.db')\n",
    "\n",
    "cursor = conn.cursor()\n",
    "novotitulo = input('Digite o novo título: ')\n",
    "ano = int(input('Digite o novo ano de publicação: '))\n",
    "mes = int(input('Digite o novo mês de publicação: '))\n",
    "dia = int(input('Digite o novo dia da publicação: '))\n",
    "datanova = datetime.date(ano, mes, dia)\n",
    "id_mudar = input('Digite o id do post a ser mudado: ')\n",
    "\n",
    "cursor.execute('UPDATE Post SET Title = ?, Created = ? WHERE PostID = ?', (novotitulo, datanova,id_mudar))\n",
    "\n",
    "print('Update ok')\n",
    "\n",
    "conn.commit()\n",
    "conn.close()"
   ]
  },
  {
   "cell_type": "code",
   "execution_count": 23,
   "metadata": {},
   "outputs": [
    {
     "name": "stdout",
     "output_type": "stream",
     "text": [
      "Deletado\n"
     ]
    }
   ],
   "source": [
    "#Deleta o autor\n",
    "\n",
    "import sqlite3\n",
    "\n",
    "conn = sqlite3.connect('aula6ex1.db')\n",
    "cursor = conn.cursor()\n",
    "id_deletar = int(input('Digite o id do autor a ser deletado: '))\n",
    "\n",
    "cursor.execute('DELETE from Author where AuthorID = ?', [(id_deletar)])\n",
    "\n",
    "print('Deletado')\n",
    "conn.commit()\n",
    "conn.close()"
   ]
  },
  {
   "cell_type": "code",
   "execution_count": 1,
   "metadata": {},
   "outputs": [
    {
     "name": "stdout",
     "output_type": "stream",
     "text": [
      "Deletado\n"
     ]
    }
   ],
   "source": [
    "#Deleta o post\n",
    "\n",
    "import sqlite3\n",
    "\n",
    "conn = sqlite3.connect('aula6ex1.db')\n",
    "cursor = conn.cursor()\n",
    "id_deletado = int(input('Digite o id do post a ser deletado: '))\n",
    "\n",
    "cursor.execute('DELETE from Post where PostID = ?', [(id_deletado)])\n",
    "\n",
    "print('Deletado')\n",
    "conn.commit()\n",
    "conn.close()"
   ]
  }
 ],
 "metadata": {
  "kernelspec": {
   "display_name": "Python 3.10.5 64-bit",
   "language": "python",
   "name": "python3"
  },
  "language_info": {
   "codemirror_mode": {
    "name": "ipython",
    "version": 3
   },
   "file_extension": ".py",
   "mimetype": "text/x-python",
   "name": "python",
   "nbconvert_exporter": "python",
   "pygments_lexer": "ipython3",
   "version": "3.10.5"
  },
  "orig_nbformat": 4,
  "vscode": {
   "interpreter": {
    "hash": "ccf51c662ef126a4d133f2e757cded537ec54d2947cc48888eb4137a09e079a0"
   }
  }
 },
 "nbformat": 4,
 "nbformat_minor": 2
}
