{
 "cells": [
  {
   "cell_type": "code",
   "execution_count": 8,
   "metadata": {},
   "outputs": [],
   "source": [
    "import sqlite3\n",
    "\n",
    "conn = sqlite3.connect('ProvaParcial1.db')\n",
    "\n",
    "cursor = conn.cursor()\n",
    "\n",
    "cursor.execute(\"\"\"\n",
    "CREATE TABLE IF NOT EXISTS Post(\n",
    "    PostID INTEGER NOT NULL PRIMARY KEY AUTOINCREMENT,\n",
    "    Title TEXT NOT NULL,\n",
    "    Created DATETIME NOT NULL,\n",
    "    Text TEXT NOT NULL\n",
    " \n",
    ")\n",
    "\"\"\")\n",
    "\n",
    "cursor.execute(\"\"\"\n",
    "CREATE TABLE IF NOT EXISTS Comment(\n",
    "    CommentID INTEGER NOT NULL PRIMARY KEY AUTOINCREMENT,\n",
    "    PostID INTEGER NOT NULL,\n",
    "    Text TEXT NOT NULL,\n",
    "    Created DATETIME NOT NULL,\n",
    "    User TEXT NOT NULL,\n",
    "    FOREIGN KEY (PostID) REFERENCES Post(PostID)\n",
    ")\n",
    "\"\"\")\n",
    "\n",
    "conn.commit()\n"
   ]
  },
  {
   "cell_type": "code",
   "execution_count": 21,
   "metadata": {},
   "outputs": [],
   "source": [
    "#Insere no post\n",
    "\n",
    "import sqlite3\n",
    "\n",
    "conn = sqlite3.connect('ProvaParcial1.db')\n",
    "\n",
    "cursor = conn.cursor()\n",
    "title = input('Digite o título do post: ')\n",
    "text = input('Digite o texto do post: ')\n",
    "\n",
    "cursor.execute('INSERT INTO Post(Title, Created, Text) VALUES (?, DateTime(\"now\"),?)',(title, text))\n",
    "\n",
    "conn.commit()\n",
    "conn.close()"
   ]
  },
  {
   "cell_type": "code",
   "execution_count": 36,
   "metadata": {},
   "outputs": [],
   "source": [
    "#Insere no Comment\n",
    "\n",
    "import sqlite3\n",
    "\n",
    "conn = sqlite3.connect('ProvaParcial1.db')\n",
    "\n",
    "cursor = conn.cursor()\n",
    "\n",
    "idpost = int(input('Digite o id do post: '))\n",
    "texto = input('Digite o texto do comentário: ')\n",
    "usuario = input('Digite o nome de usuário: ')\n",
    "\n",
    "seleciona = \"SELECT PostID FROM Post WHERE PostID ='{}'\".format(idpost)\n",
    "cursor.execute(seleciona)\n",
    "resultado = cursor.fetchall()\n",
    "if len(resultado)!=0:  \n",
    "    cursor.execute('INSERT INTO Comment(PostID, Text, Created, User) VALUES (?,?, DateTime(\"now\"), ?)', (idpost, texto, usuario))\n",
    "else:\n",
    "    print('ID de Post inexistente')\n",
    "\n",
    "conn.commit()\n",
    "conn.close()"
   ]
  },
  {
   "cell_type": "code",
   "execution_count": 42,
   "metadata": {},
   "outputs": [
    {
     "name": "stdout",
     "output_type": "stream",
     "text": [
      "Update ok\n"
     ]
    }
   ],
   "source": [
    "#Atualiza o Post\n",
    "\n",
    "import sqlite3\n",
    "\n",
    "conn = sqlite3.connect('ProvaParcial1.db')\n",
    "\n",
    "cursor = conn.cursor()\n",
    "novopost = input('Digite o novo título do post: ')\n",
    "novotext = input('Digite o novo texto do post: ')\n",
    "id_mudar = int(input('Digite o id do post a ser mudado: '))\n",
    "\n",
    "seleciona1 = \"SELECT PostID FROM Post WHERE PostID ='{}'\".format(id_mudar)\n",
    "cursor.execute(seleciona1)\n",
    "resultado1 = cursor.fetchall()\n",
    "if len(resultado1)!=0:  \n",
    "    cursor.execute('UPDATE Post SET Title = ?, Text = ?, Created = DateTime(\"now\") where PostID = ?', (novopost, novotext, id_mudar))\n",
    "    print('Update ok')\n",
    "else:\n",
    "    print('ID de Post inexistente')\n",
    "\n",
    "\n",
    "\n",
    "\n",
    "conn.commit()\n",
    "conn.close()"
   ]
  },
  {
   "cell_type": "code",
   "execution_count": 47,
   "metadata": {},
   "outputs": [
    {
     "name": "stdout",
     "output_type": "stream",
     "text": [
      "ID de Comentário inexistente\n"
     ]
    }
   ],
   "source": [
    "#Atualiza o Comment\n",
    "\n",
    "import sqlite3\n",
    "\n",
    "conn = sqlite3.connect('ProvaParcial1.db')\n",
    "\n",
    "cursor = conn.cursor()\n",
    "novopostid = input('Digite o novo id do post no comentário: ')\n",
    "novotexto = input('Digite o novo texto do comentário: ')\n",
    "novousuario = input('Digite o novo nome de usuário: ')\n",
    "id_a_mudar = int(input('Digite o id do comentário a ser mudado: '))\n",
    "\n",
    "seleciona2 = \"SELECT PostID FROM Post WHERE PostID ='{}'\".format(novopostid)\n",
    "cursor.execute(seleciona2)\n",
    "resultado2 = cursor.fetchall()\n",
    "if len(resultado2)!=0:  \n",
    "    seleciona3 = \"SELECT CommentID FROM Comment WHERE CommentID ='{}'\".format(id_a_mudar)\n",
    "    cursor.execute(seleciona3)\n",
    "    resultado3 = cursor.fetchall()\n",
    "    if len(resultado3)!=0:  \n",
    "        cursor.execute('UPDATE Comment SET PostID = ?, Text = ?, Created = DateTime(\"now\"), User = ? where CommentID = ?', (novopostid, novotexto, novousuario, id_a_mudar))\n",
    "        print('Update ok')\n",
    "    else:\n",
    "        print('ID de Comentário inexistente')\n",
    "else:\n",
    "    print('ID de Post inexistente')\n",
    "\n",
    "\n",
    "conn.commit()\n",
    "conn.close()"
   ]
  },
  {
   "cell_type": "code",
   "execution_count": 48,
   "metadata": {},
   "outputs": [
    {
     "name": "stdout",
     "output_type": "stream",
     "text": [
      "(1, 'Post 1', '2022-09-19 14:23:08', 'teste 1')\n",
      "(2, 'post 2', '2022-09-19 13:56:44', 'aaaaaaaaaaaaaa')\n",
      "(3, 'post 3', '2022-09-19 13:56:51', 'bbbbbbbbbbbbbbbbbb')\n",
      "(4, 'post 4', '2022-09-19 13:57:01', 'ccccccccccccccccccccccccc')\n"
     ]
    }
   ],
   "source": [
    "#Visualiza o Post\n",
    "\n",
    "import sqlite3\n",
    "\n",
    "conn = sqlite3.connect('ProvaParcial1.db')\n",
    "\n",
    "cursor = conn.cursor()\n",
    "\n",
    "cursor.execute('SELECT * FROM Post')\n",
    "\n",
    "for linha in cursor.fetchall():\n",
    "    print(linha)\n",
    "\n",
    "conn.commit()\n",
    "conn.close()"
   ]
  },
  {
   "cell_type": "code",
   "execution_count": 49,
   "metadata": {},
   "outputs": [
    {
     "name": "stdout",
     "output_type": "stream",
     "text": [
      "(1, 1, 'vascao', '2022-09-19 13:51:40', 'selmini do java')\n",
      "(2, 2, 'aaaaaaaaaaaaaaaaaaaaa', '2022-09-19 13:57:32', 'usuario2')\n",
      "(3, 3, 'bbbbbbbbbbbb', '2022-09-19 13:57:50', 'usuario3')\n",
      "(4, 4, 'eeeeeeeeeeeeeeeeeeeeeeeeeeeeeeeee', '2022-09-19 14:32:52', 'usuario novo')\n"
     ]
    }
   ],
   "source": [
    "#Visualiza o Comment\n",
    "\n",
    "import sqlite3\n",
    "\n",
    "conn = sqlite3.connect('ProvaParcial1.db')\n",
    "\n",
    "cursor = conn.cursor()\n",
    "\n",
    "cursor.execute('SELECT * FROM Comment')\n",
    "\n",
    "for linha in cursor.fetchall():\n",
    "    print(linha)\n",
    "\n",
    "conn.commit()\n",
    "conn.close()"
   ]
  },
  {
   "cell_type": "code",
   "execution_count": 55,
   "metadata": {},
   "outputs": [
    {
     "name": "stdout",
     "output_type": "stream",
     "text": [
      "(1, 'Post 1', '2022-09-19 14:23:08', 'teste 1', 1, 1, 'vascao', '2022-09-19 13:51:40', 'selmini do java')\n",
      "(1, 'Post 1', '2022-09-19 14:23:08', 'teste 1', 2, 2, 'aaaaaaaaaaaaaaaaaaaaa', '2022-09-19 13:57:32', 'usuario2')\n",
      "(1, 'Post 1', '2022-09-19 14:23:08', 'teste 1', 3, 3, 'bbbbbbbbbbbb', '2022-09-19 13:57:50', 'usuario3')\n",
      "(2, 'post 2', '2022-09-19 13:56:44', 'aaaaaaaaaaaaaa', 1, 1, 'vascao', '2022-09-19 13:51:40', 'selmini do java')\n",
      "(2, 'post 2', '2022-09-19 13:56:44', 'aaaaaaaaaaaaaa', 2, 2, 'aaaaaaaaaaaaaaaaaaaaa', '2022-09-19 13:57:32', 'usuario2')\n",
      "(2, 'post 2', '2022-09-19 13:56:44', 'aaaaaaaaaaaaaa', 3, 3, 'bbbbbbbbbbbb', '2022-09-19 13:57:50', 'usuario3')\n",
      "(3, 'post 3', '2022-09-19 13:56:51', 'bbbbbbbbbbbbbbbbbb', 1, 1, 'vascao', '2022-09-19 13:51:40', 'selmini do java')\n",
      "(3, 'post 3', '2022-09-19 13:56:51', 'bbbbbbbbbbbbbbbbbb', 2, 2, 'aaaaaaaaaaaaaaaaaaaaa', '2022-09-19 13:57:32', 'usuario2')\n",
      "(3, 'post 3', '2022-09-19 13:56:51', 'bbbbbbbbbbbbbbbbbb', 3, 3, 'bbbbbbbbbbbb', '2022-09-19 13:57:50', 'usuario3')\n"
     ]
    }
   ],
   "source": [
    "#Visualiza o Post junto ao Comment\n",
    "\n",
    "import sqlite3\n",
    "\n",
    "conn = sqlite3.connect('ProvaParcial1.db')\n",
    "\n",
    "cursor = conn.cursor()\n",
    "\n",
    "cursor.execute('SELECT * FROM Post INNER JOIN Comment')\n",
    "\n",
    "for linha in cursor.fetchall():\n",
    "    print(linha)\n",
    "\n",
    "conn.commit()\n",
    "conn.close()"
   ]
  },
  {
   "cell_type": "code",
   "execution_count": 51,
   "metadata": {},
   "outputs": [
    {
     "name": "stdout",
     "output_type": "stream",
     "text": [
      "Deletado\n"
     ]
    }
   ],
   "source": [
    "#Deleta o Post\n",
    "\n",
    "import sqlite3\n",
    "\n",
    "conn = sqlite3.connect('ProvaParcial1.db')\n",
    "cursor = conn.cursor()\n",
    "id_deletar = int(input('Digite o id do Post a ser deletado: '))\n",
    "\n",
    "seleciona4 = \"SELECT PostID FROM Post WHERE PostID ='{}'\".format(id_deletar)\n",
    "cursor.execute(seleciona4)\n",
    "resultado4 = cursor.fetchall()\n",
    "if len(resultado4)!=0:  \n",
    "    cursor.execute('DELETE from Post where PostID = ?', [(id_deletar)])\n",
    "    print('Deletado')\n",
    "else:\n",
    "    print('ID de Post inexistente')\n",
    "\n",
    "conn.commit()\n",
    "conn.close()"
   ]
  },
  {
   "cell_type": "code",
   "execution_count": 53,
   "metadata": {},
   "outputs": [
    {
     "name": "stdout",
     "output_type": "stream",
     "text": [
      "Deletado\n"
     ]
    }
   ],
   "source": [
    "#Deleta o Comment\n",
    "\n",
    "import sqlite3\n",
    "\n",
    "conn = sqlite3.connect('ProvaParcial1.db')\n",
    "cursor = conn.cursor()\n",
    "id_deletado = int(input('Digite o id do comentário a ser deletado: '))\n",
    "\n",
    "seleciona5 = \"SELECT CommentID FROM Comment WHERE CommentID ='{}'\".format(id_deletado)\n",
    "cursor.execute(seleciona5)\n",
    "resultado5 = cursor.fetchall()\n",
    "if len(resultado5)!=0:  \n",
    "    cursor.execute('DELETE from Comment where CommentID = ?', [(id_deletado)])\n",
    "    print('Deletado')\n",
    "else:\n",
    "    print('ID de Comentário inexistente')\n",
    "\n",
    "conn.commit()\n",
    "conn.close()"
   ]
  }
 ],
 "metadata": {
  "kernelspec": {
   "display_name": "Python 3.10.5 64-bit",
   "language": "python",
   "name": "python3"
  },
  "language_info": {
   "codemirror_mode": {
    "name": "ipython",
    "version": 3
   },
   "file_extension": ".py",
   "mimetype": "text/x-python",
   "name": "python",
   "nbconvert_exporter": "python",
   "pygments_lexer": "ipython3",
   "version": "3.10.5"
  },
  "orig_nbformat": 4,
  "vscode": {
   "interpreter": {
    "hash": "ccf51c662ef126a4d133f2e757cded537ec54d2947cc48888eb4137a09e079a0"
   }
  }
 },
 "nbformat": 4,
 "nbformat_minor": 2
}
