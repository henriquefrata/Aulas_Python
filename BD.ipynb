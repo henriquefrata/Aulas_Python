{
 "cells": [
  {
   "cell_type": "code",
   "execution_count": 1,
   "metadata": {},
   "outputs": [
    {
     "name": "stdout",
     "output_type": "stream",
     "text": [
      "Note: you may need to restart the kernel to use updated packages.Collecting pyodbc\n",
      "  Downloading pyodbc-4.0.34-cp310-cp310-win_amd64.whl (74 kB)\n",
      "     ---------------------------------------- 74.9/74.9 KB 1.4 MB/s eta 0:00:00\n",
      "Installing collected packages: pyodbc\n",
      "Successfully installed pyodbc-4.0.34\n",
      "\n"
     ]
    },
    {
     "name": "stderr",
     "output_type": "stream",
     "text": [
      "WARNING: You are using pip version 22.0.4; however, version 22.2.2 is available.\n",
      "You should consider upgrading via the 'c:\\Users\\HENRIQUE.FRATA\\AppData\\Local\\Programs\\Python\\Python310\\python.exe -m pip install --upgrade pip' command.\n"
     ]
    }
   ],
   "source": [
    "pip install pyodbc"
   ]
  },
  {
   "cell_type": "code",
   "execution_count": null,
   "metadata": {},
   "outputs": [],
   "source": []
  },
  {
   "cell_type": "code",
   "execution_count": 3,
   "metadata": {},
   "outputs": [
    {
     "name": "stdout",
     "output_type": "stream",
     "text": [
      "(1, 'andre', 35)\n",
      "(2, 'ana', 26)\n",
      "(3, 'joão', 45)\n"
     ]
    }
   ],
   "source": [
    "import pyodbc\n",
    "server = 'dlapoio.database.windows.net'\n",
    "database = 'masterUber'\n",
    "username = 'andre'\n",
    "password = 'ShC12%Uz'\n",
    "driver = 'SQL Server'\n",
    "\n",
    "cnxn = pyodbc.connect('DRIVER='+driver+';SERVER='+server+\";PORT=1433;DATABASE=\"+database+\";UID=\"+username+';PWD='+password)\n",
    "\n",
    "cursor = cnxn.cursor()\n",
    "\n",
    "cursor.execute('SELECT * FROM tb_pessoas')\n",
    "\n",
    "for linha in cursor.fetchall():\n",
    "    print(linha)"
   ]
  },
  {
   "cell_type": "code",
   "execution_count": 11,
   "metadata": {},
   "outputs": [],
   "source": [
    "import sqlite3\n",
    "\n",
    "conn = sqlite3.connect('espm4s.db')\n",
    "\n",
    "cursor = conn.cursor()\n",
    "\n",
    "cursor.execute(\"\"\"\n",
    "CREATE TABLE IF NOT EXISTS tb_pessoas(\n",
    "    id INTEGER NOT NULL PRIMARY KEY AUTOINCREMENT,\n",
    "    nome TEXT NOT NULL,\n",
    "    idade INTEGER NOT NULL\n",
    ")\n",
    "\"\"\")\n",
    "\n",
    "\n",
    "conn.commit()\n"
   ]
  },
  {
   "cell_type": "code",
   "execution_count": 14,
   "metadata": {},
   "outputs": [
    {
     "name": "stdout",
     "output_type": "stream",
     "text": [
      "linha inserida\n"
     ]
    }
   ],
   "source": [
    "import sqlite3\n",
    "\n",
    "conn = sqlite3.connect('espm4s.db')\n",
    "\n",
    "cursor = conn.cursor()\n",
    "nome = input('Digite o nome: ')\n",
    "idade = int(input('Digite a idade: '))\n",
    "\n",
    "cursor.execute('INSERT INTO tb_pessoas(nome, idade) VALUES (?,?)', (nome, idade))\n",
    "\n",
    "print('linha inserida')\n",
    "\n",
    "conn.commit()\n",
    "\n",
    "conn.close()"
   ]
  },
  {
   "cell_type": "code",
   "execution_count": 12,
   "metadata": {},
   "outputs": [
    {
     "name": "stdout",
     "output_type": "stream",
     "text": [
      "Update ok\n"
     ]
    }
   ],
   "source": [
    "import sqlite3\n",
    "\n",
    "conn = sqlite3.connect('espm4s.db')\n",
    "\n",
    "cursor = conn.cursor()\n",
    "\n",
    "cursor.execute('UPDATE tb_pessoas SET nome = ? where id = ?', ('Henrique Frata', 1))\n",
    "\n",
    "print('Update ok')\n",
    "\n",
    "conn.commit()\n",
    "conn.close()"
   ]
  },
  {
   "cell_type": "code",
   "execution_count": 13,
   "metadata": {},
   "outputs": [
    {
     "name": "stdout",
     "output_type": "stream",
     "text": [
      "delete ok\n"
     ]
    }
   ],
   "source": [
    "import sqlite3\n",
    "\n",
    "conn = sqlite3.connect('espm4s.db')\n",
    "\n",
    "cursor = conn.cursor()\n",
    "\n",
    "cursor.execute('DELETE FROM tb_pessoas WHERE id = 1')\n",
    "\n",
    "print('delete ok')\n",
    "\n",
    "conn.commit()\n",
    "conn.close()"
   ]
  }
 ],
 "metadata": {
  "kernelspec": {
   "display_name": "Python 3.10.5 64-bit",
   "language": "python",
   "name": "python3"
  },
  "language_info": {
   "codemirror_mode": {
    "name": "ipython",
    "version": 3
   },
   "file_extension": ".py",
   "mimetype": "text/x-python",
   "name": "python",
   "nbconvert_exporter": "python",
   "pygments_lexer": "ipython3",
   "version": "3.10.5"
  },
  "orig_nbformat": 4,
  "vscode": {
   "interpreter": {
    "hash": "ccf51c662ef126a4d133f2e757cded537ec54d2947cc48888eb4137a09e079a0"
   }
  }
 },
 "nbformat": 4,
 "nbformat_minor": 2
}
